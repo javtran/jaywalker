{
 "cells": [
  {
   "cell_type": "code",
   "execution_count": 1,
   "metadata": {},
   "outputs": [
    {
     "name": "stdout",
     "output_type": "stream",
     "text": [
      "current working dirD:\\ML\\rl\\ddpg\n"
     ]
    }
   ],
   "source": [
    "exec(open(\"init_notebook.py\", \"r\").read())\n",
    "%load_ext autoreload"
   ]
  },
  {
   "cell_type": "code",
   "execution_count": 2,
   "metadata": {},
   "outputs": [],
   "source": [
    "\n",
    "import sys\n",
    "import gym\n",
    "import numpy as np\n",
    "import pandas as pd\n",
    "import matplotlib.pyplot as plt\n",
    "from ddpg import DDPGagent\n",
    "from utils import *\n",
    "import torch\n",
    "import numpy as np"
   ]
  },
  {
   "cell_type": "code",
   "execution_count": 3,
   "metadata": {},
   "outputs": [],
   "source": [
    "env = NormalizedEnv(gym.make(\"Pendulum-v1\"))"
   ]
  },
  {
   "cell_type": "code",
   "execution_count": 4,
   "metadata": {},
   "outputs": [
    {
     "data": {
      "text/plain": [
       "Box([-2.], [2.], (1,), float32)"
      ]
     },
     "execution_count": 4,
     "metadata": {},
     "output_type": "execute_result"
    }
   ],
   "source": [
    "env.action_space"
   ]
  },
  {
   "cell_type": "code",
   "execution_count": 5,
   "metadata": {},
   "outputs": [
    {
     "name": "stdout",
     "output_type": "stream",
     "text": [
      "Size of State Space ->  3\n",
      "Size of Action Space ->  1\n",
      "Max Value of Action ->  2.0\n",
      "Min Value of Action ->  -2.0\n"
     ]
    }
   ],
   "source": [
    "num_states = env.observation_space.shape[0]\n",
    "print(\"Size of State Space ->  {}\".format(num_states))\n",
    "num_actions = env.action_space.shape[0]\n",
    "print(\"Size of Action Space ->  {}\".format(num_actions))\n",
    "\n",
    "upper_bound = env.action_space.high[0]\n",
    "lower_bound = env.action_space.low[0]\n",
    "\n",
    "print(\"Max Value of Action ->  {}\".format(upper_bound))\n",
    "print(\"Min Value of Action ->  {}\".format(lower_bound))"
   ]
  },
  {
   "cell_type": "code",
   "execution_count": 6,
   "metadata": {},
   "outputs": [],
   "source": [
    "agent = DDPGagent(env)\n",
    "noise = OUNoise(env.action_space, decay_period=100) # default decay is 10K. So, an episode will not have too much deviation.\n",
    "batch_size = 128\n",
    "rewards = []\n",
    "avg_rewards = []"
   ]
  },
  {
   "cell_type": "code",
   "execution_count": 7,
   "metadata": {},
   "outputs": [
    {
     "name": "stderr",
     "output_type": "stream",
     "text": [
      "C:\\Users\\adhocmaster\\anaconda3\\envs\\pytorch37\\lib\\site-packages\\pyglet\\image\\codecs\\wic.py:289: UserWarning: [WinError -2147417850] Cannot change thread mode after it is set\n",
      "  warnings.warn(str(err))\n",
      "C:\\Users\\adhocmaster\\anaconda3\\envs\\pytorch37\\lib\\site-packages\\numpy\\core\\fromnumeric.py:3441: RuntimeWarning: Mean of empty slice.\n",
      "  out=out, **kwargs)\n",
      "C:\\Users\\adhocmaster\\anaconda3\\envs\\pytorch37\\lib\\site-packages\\numpy\\core\\_methods.py:189: RuntimeWarning: invalid value encountered in double_scalars\n",
      "  ret = ret.dtype.type(ret / rcount)\n"
     ]
    },
    {
     "name": "stdout",
     "output_type": "stream",
     "text": [
      "episode: 0, reward: -1588.02, average _reward: nan \n",
      "episode: 1, reward: -1676.36, average _reward: -1588.0205885971036 \n",
      "episode: 2, reward: -1570.03, average _reward: -1632.1895760999794 \n",
      "episode: 3, reward: -1578.4, average _reward: -1611.470739675151 \n",
      "episode: 4, reward: -989.09, average _reward: -1603.2036641077736 \n",
      "episode: 5, reward: -1238.05, average _reward: -1480.3808342735294 \n",
      "episode: 6, reward: -1439.52, average _reward: -1439.9926830003042 \n",
      "episode: 7, reward: -1350.84, average _reward: -1439.9248011438538 \n",
      "episode: 8, reward: -781.62, average _reward: -1428.788737538222 \n",
      "episode: 9, reward: -643.82, average _reward: -1356.880592866981 \n",
      "episode: 10, reward: -490.04, average _reward: -1285.5746793497483 \n",
      "episode: 11, reward: -500.19, average _reward: -1175.7769315667535 \n",
      "episode: 12, reward: -382.05, average _reward: -1058.1598938569864 \n",
      "episode: 13, reward: -583.97, average _reward: -939.3618485654818 \n",
      "episode: 14, reward: -730.09, average _reward: -839.9183486516356 \n",
      "episode: 15, reward: -566.86, average _reward: -814.0186041595447 \n",
      "episode: 16, reward: -380.28, average _reward: -746.899729688793 \n",
      "episode: 17, reward: -268.2, average _reward: -640.9763228798239 \n",
      "episode: 18, reward: -509.01, average _reward: -532.7123122643876 \n",
      "episode: 19, reward: -615.94, average _reward: -505.4520516677686 \n",
      "episode: 20, reward: -379.19, average _reward: -502.6641631188263 \n",
      "episode: 21, reward: -382.85, average _reward: -491.5789427794816 \n",
      "episode: 22, reward: -386.71, average _reward: -479.8449435078699 \n",
      "episode: 23, reward: -495.51, average _reward: -480.3102916983136 \n",
      "episode: 24, reward: -614.55, average _reward: -471.46424606018627 \n",
      "episode: 25, reward: -376.01, average _reward: -459.90983769314255 \n",
      "episode: 26, reward: -606.42, average _reward: -440.8241586360758 \n",
      "episode: 27, reward: -505.18, average _reward: -463.43830613758337 \n",
      "episode: 28, reward: -250.86, average _reward: -487.136854538959 \n",
      "episode: 29, reward: -379.39, average _reward: -461.3218063168598 \n",
      "episode: 30, reward: -499.63, average _reward: -437.666479954833 \n",
      "episode: 31, reward: -256.91, average _reward: -449.71002829383343 \n",
      "episode: 32, reward: -508.08, average _reward: -437.11585947936635 \n",
      "episode: 33, reward: -364.9, average _reward: -449.2529505993865 \n",
      "episode: 34, reward: -438.9, average _reward: -436.19247175903666 \n",
      "episode: 35, reward: -495.62, average _reward: -418.6280651497956 \n",
      "episode: 36, reward: -506.2, average _reward: -430.5895686546273 \n",
      "episode: 37, reward: -557.34, average _reward: -420.5666514268061 \n",
      "episode: 38, reward: -252.5, average _reward: -425.78292151973864 \n",
      "episode: 39, reward: -495.09, average _reward: -425.9462947624094 \n",
      "episode: 40, reward: -612.42, average _reward: -437.5159671310239 \n",
      "episode: 41, reward: -255.63, average _reward: -448.79571544270095 \n",
      "episode: 42, reward: -499.4, average _reward: -448.6683884516341 \n",
      "episode: 43, reward: -470.69, average _reward: -447.8011774981146 \n",
      "episode: 44, reward: -375.94, average _reward: -458.37993515188816 \n",
      "episode: 45, reward: -269.0, average _reward: -452.0834172278056 \n",
      "episode: 46, reward: -254.91, average _reward: -429.420992897599 \n",
      "episode: 47, reward: -362.02, average _reward: -404.29240305484154 \n",
      "episode: 48, reward: -607.66, average _reward: -384.7597297968397 \n",
      "episode: 49, reward: -246.03, average _reward: -420.27652662080027 \n"
     ]
    }
   ],
   "source": [
    "for episode in range(50):\n",
    "    state = env.reset()\n",
    "    noise.reset()\n",
    "    episode_reward = 0\n",
    "    \n",
    "    # print(f\"Episode {episode}\")\n",
    "    \n",
    "    for step in range(500):\n",
    "        env.render() \n",
    "        action = agent.get_action(state)\n",
    "        action = noise.get_action(action, step)\n",
    "#         print(action)\n",
    "        new_state, reward, done, _ = env.step(action) \n",
    "        agent.memory.push(state, action, reward, new_state, done)\n",
    "        \n",
    "        if len(agent.memory) > batch_size:\n",
    "            agent.update(batch_size)        \n",
    "        \n",
    "        state = new_state\n",
    "        episode_reward += reward\n",
    "\n",
    "        if done:\n",
    "            sys.stdout.write(\"episode: {}, reward: {}, average _reward: {} \\n\".format(episode,l np.round(episode_reward, decimals=2), np.mean(rewards[-10:])))\n",
    "            break\n",
    "\n",
    "    rewards.append(episode_reward)\n",
    "    avg_rewards.append(np.mean(rewards[-10:]))\n",
    "env.close()"
   ]
  },
  {
   "cell_type": "code",
   "execution_count": 8,
   "metadata": {},
   "outputs": [
    {
     "data": {
      "image/png": "[encoded data removed]",
      "text/plain": [
       "<Figure size 432x288 with 1 Axes>"
      ]
     },
     "metadata": {
      "needs_background": "light"
     },
     "output_type": "display_data"
    }
   ],
   "source": [
    "env.close()\n",
    "plt.plot(rewards)\n",
    "plt.plot(avg_rewards)\n",
    "plt.plot()\n",
    "plt.xlabel('Episode')\n",
    "plt.ylabel('Reward')\n",
    "plt.show()"
   ]
  },
  {
   "cell_type": "code",
   "execution_count": 9,
   "metadata": {},
   "outputs": [
    {
     "name": "stdout",
     "output_type": "stream",
     "text": [
      "Episode 0\n",
      "episode: 0, reward: -10.77, average _reward: -469.46624223578067 \n",
      "Episode 1\n",
      "episode: 1, reward: -125.43, average _reward: -408.4412248308698 \n",
      "Episode 2\n",
      "episode: 2, reward: -127.46, average _reward: -375.61404708569563 \n",
      "Episode 3\n",
      "episode: 3, reward: -251.95, average _reward: -350.6876065448313 \n",
      "Episode 4\n",
      "episode: 4, reward: -131.91, average _reward: -314.41378769848603 \n",
      "Episode 5\n",
      "episode: 5, reward: -125.4, average _reward: -288.87511821122183 \n",
      "Episode 6\n",
      "episode: 6, reward: -261.49, average _reward: -264.28339017365136 \n",
      "Episode 7\n",
      "episode: 7, reward: -11.25, average _reward: -264.99993905336 \n",
      "Episode 8\n",
      "episode: 8, reward: -248.92, average _reward: -215.9873906480691 \n",
      "Episode 9\n",
      "episode: 9, reward: -12.92, average _reward: -179.5118417807849 \n"
     ]
    }
   ],
   "source": [
    "for episode in range(10):\n",
    "    state = env.reset()\n",
    "    noise.reset()\n",
    "    episode_reward = 0\n",
    "    \n",
    "    print(f\"Episode {episode}\")\n",
    "    \n",
    "    for step in range(500):\n",
    "        env.render() \n",
    "        # action = agent.get_action(state)\n",
    "        action = agent.get_action_target(state)\n",
    "        # action = noise.get_action(action, step)\n",
    "#         print(action)\n",
    "        new_state, reward, done, _ = env.step(action) \n",
    "        state = new_state\n",
    "        episode_reward += reward\n",
    "\n",
    "        if done:\n",
    "            sys.stdout.write(\"episode: {}, reward: {}, average _reward: {} \\n\".format(episode, np.round(episode_reward, decimals=2), np.mean(rewards[-10:])))\n",
    "            break\n",
    "\n",
    "    rewards.append(episode_reward)\n",
    "    avg_rewards.append(np.mean(rewards[-10:]))\n",
    "env.close()"
   ]
  },
  {
   "cell_type": "code",
   "execution_count": 10,
   "metadata": {},
   "outputs": [
    {
     "data": {
      "image/png": "[encoded data removed]",
      "text/plain": [
       "<Figure size 432x288 with 1 Axes>"
      ]
     },
     "metadata": {
      "needs_background": "light"
     },
     "output_type": "display_data"
    }
   ],
   "source": [
    "env.close()\n",
    "plt.plot(rewards)\n",
    "plt.plot(avg_rewards)\n",
    "plt.plot()\n",
    "plt.xlabel('Episode')\n",
    "plt.ylabel('Reward')\n",
    "plt.show()"
   ]
  },
  {
   "cell_type": "code",
   "execution_count": 8,
   "metadata": {},
   "outputs": [],
   "source": [
    "state_batch, action_batch, reward_batch, next_state_batch, done_batch = agent.memory.sample(2)"
   ]
  },
  {
   "cell_type": "code",
   "execution_count": 9,
   "metadata": {},
   "outputs": [
    {
     "data": {
      "text/plain": [
       "array([[ 0.93711823, -0.34901202,  1.4282559 ],\n",
       "       [ 0.98099744,  0.19402081, -0.07156344]], dtype=float32)"
      ]
     },
     "execution_count": 9,
     "metadata": {},
     "output_type": "execute_result"
    }
   ],
   "source": [
    "next_state_batch"
   ]
  },
  {
   "cell_type": "code",
   "execution_count": 10,
   "metadata": {},
   "outputs": [
    {
     "data": {
      "text/plain": [
       "array([[ 0.909827  , -0.4149878 ,  1.4845594 ],\n",
       "       [ 0.9802969 ,  0.19752973, -0.17763457]], dtype=float32)"
      ]
     },
     "execution_count": 10,
     "metadata": {},
     "output_type": "execute_result"
    }
   ],
   "source": [
    "state_batch"
   ]
  },
  {
   "cell_type": "code",
   "execution_count": 11,
   "metadata": {},
   "outputs": [
    {
     "data": {
      "text/plain": [
       "array([[ 0.84979103],\n",
       "       [-0.14025392]])"
      ]
     },
     "execution_count": 11,
     "metadata": {},
     "output_type": "execute_result"
    }
   ],
   "source": [
    "action_batch"
   ]
  },
  {
   "cell_type": "code",
   "execution_count": 12,
   "metadata": {},
   "outputs": [
    {
     "data": {
      "text/plain": [
       "array([[-0.40640383],\n",
       "       [-0.04277039]])"
      ]
     },
     "execution_count": 12,
     "metadata": {},
     "output_type": "execute_result"
    }
   ],
   "source": [
    "reward_batch"
   ]
  },
  {
   "cell_type": "code",
   "execution_count": 19,
   "metadata": {},
   "outputs": [],
   "source": [
    "r = np.asarray(reward_batch)"
   ]
  },
  {
   "cell_type": "code",
   "execution_count": 20,
   "metadata": {},
   "outputs": [
    {
     "data": {
      "text/plain": [
       "array([[-0.02179232],\n",
       "       [-3.63834091]])"
      ]
     },
     "execution_count": 20,
     "metadata": {},
     "output_type": "execute_result"
    }
   ],
   "source": [
    "r"
   ]
  },
  {
   "cell_type": "code",
   "execution_count": 27,
   "metadata": {},
   "outputs": [],
   "source": [
    "states = torch.FloatTensor(np.asarray(state_batch))"
   ]
  },
  {
   "cell_type": "code",
   "execution_count": 28,
   "metadata": {},
   "outputs": [
    {
     "data": {
      "text/plain": [
       "tensor([[0.9943, 0.1064, 0.2983],\n",
       "        [0.0333, 0.9994, 3.5699]])"
      ]
     },
     "execution_count": 28,
     "metadata": {},
     "output_type": "execute_result"
    }
   ],
   "source": [
    "states"
   ]
  },
  {
   "cell_type": "code",
   "execution_count": null,
   "metadata": {},
   "outputs": [],
   "source": []
  }
 ],
 "metadata": {
  "kernelspec": {
   "display_name": "Python 3 (ipykernel)",
   "language": "python",
   "name": "python3"
  },
  "language_info": {
   "codemirror_mode": {
    "name": "ipython",
    "version": 3
   },
   "file_extension": ".py",
   "mimetype": "text/x-python",
   "name": "python",
   "nbconvert_exporter": "python",
   "pygments_lexer": "ipython3",
   "version": "3.7.11"
  }
 },
 "nbformat": 4,
 "nbformat_minor": 4
}
